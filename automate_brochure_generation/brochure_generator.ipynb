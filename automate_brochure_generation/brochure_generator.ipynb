{
 "cells": [
  {
   "cell_type": "markdown",
   "id": "e3af63b8-6354-4990-a9ef-4522ecc13bf8",
   "metadata": {},
   "source": [
    "# AI Brochure Generator\n",
    "\n",
    "\n",
    "## Project Overview\n",
    "\n",
    "In this project, we built a highly efficient brouchure generator using LLM. We also added the option of translating the generated brochure. The solution process can be divided into three main stages. To build our graphical interface we used gradio wich is an open-source Python framework that simplifies the creation of interactive web interfaces for machine learning models, APIs, or any Python function\n",
    "\n",
    "* The first step is to build a website scrapper that can retrieve the content of a given url website.\n",
    "* After scrapping the website, we'll send the useful website content to an LLM model. The LLM model will generate a brochure by summarizing and extracting the useful information. We choose Chatgpt and Claude to do this task.\n",
    "* The final step is to send the generated brochure to another LLM for translation into the desired language.In our context, we decided to translate it into French.\n",
    "  \n"
   ]
  },
  {
   "cell_type": "code",
   "execution_count": 1,
   "id": "0f9b76b0-dcfa-4136-83bd-e9e7b17a504c",
   "metadata": {
    "scrolled": true,
    "tags": []
   },
   "outputs": [],
   "source": [
    "#Import all required libraries for our project\n",
    "import os\n",
    "import requests\n",
    "import json\n",
    "from typing import List\n",
    "from dotenv import load_dotenv\n",
    "from bs4 import BeautifulSoup\n",
    "from IPython.display import Markdown, display, update_display\n",
    "from openai import OpenAI\n",
    "import gradio as gr\n",
    "import anthropic"
   ]
  },
  {
   "cell_type": "code",
   "execution_count": 2,
   "id": "0e009c22-f6e7-4335-b449-def8e0a5320e",
   "metadata": {
    "tags": []
   },
   "outputs": [
    {
     "name": "stdout",
     "output_type": "stream",
     "text": [
      "OpenAI API Key exists and begins sk-proj-\n",
      "Anthropic API Key exists and begins sk-ant-\n"
     ]
    }
   ],
   "source": [
    "# Check that our all the LLM API Keys are found\n",
    "\n",
    "load_dotenv(override=True)\n",
    "load_dotenv('../.env.anthropic', override=True)\n",
    "openai_api_key = os.getenv('OPENAI_API_KEY')\n",
    "anthropic_api_key = os.getenv('ANTHROPIC_API_KEY')\n",
    "#google_api_key = os.getenv('GOOGLE_API_KEY')\n",
    "\n",
    "if openai_api_key:\n",
    "    print(f\"OpenAI API Key exists and begins {openai_api_key[:8]}\")\n",
    "else:\n",
    "    print(\"OpenAI API Key not set\")\n",
    "    \n",
    "if anthropic_api_key:\n",
    "    print(f\"Anthropic API Key exists and begins {anthropic_api_key[:7]}\")\n",
    "else:\n",
    "    print(\"Anthropic API Key not set\")"
   ]
  },
  {
   "cell_type": "code",
   "execution_count": 3,
   "id": "234fa2f5-441c-494f-bd78-425c1f76d0e9",
   "metadata": {
    "tags": []
   },
   "outputs": [],
   "source": [
    "Model = \"gpt-4o-mini\"\n",
    "openai = OpenAI()\n",
    "\n",
    "claude = anthropic.Anthropic()\n",
    "claude_model = \"claude-3-haiku-20240307\""
   ]
  },
  {
   "cell_type": "code",
   "execution_count": 4,
   "id": "2b489253-b130-44d6-9907-10c85a8ee065",
   "metadata": {
    "tags": []
   },
   "outputs": [],
   "source": [
    "headers = {\n",
    " \"User-Agent\": \"Mozilla/5.0 (Windows NT 10.0; Win64; x64) AppleWebKit/537.36 (KHTML, like Gecko) Chrome/117.0.0.0 Safari/537.36\"\n",
    "}"
   ]
  },
  {
   "cell_type": "code",
   "execution_count": 5,
   "id": "b2bd6a50-679f-450d-83cc-291923c10f1e",
   "metadata": {
    "tags": []
   },
   "outputs": [],
   "source": [
    "# This a small web Scrapper that scrap only static wbesite base on the url\n",
    "class ScrapStaticWebsite:\n",
    "    def __init__(self,url,headers):\n",
    "        self.url = url\n",
    "        self.headers = headers\n",
    "        response = requests.get(self.url, headers=self.headers)\n",
    "        self.body = response.content\n",
    "        soup = BeautifulSoup(self.body, 'html.parser')\n",
    "        self.title = soup.title.string if soup.title else \"No title found\"\n",
    "        if soup.body:\n",
    "            for irrelevant in soup.body([\"script\", \"style\", \"img\", \"input\"]):\n",
    "                irrelevant.decompose()\n",
    "            self.text = soup.body.get_text(separator=\"\\n\", strip=True)\n",
    "        else:\n",
    "            self.text = \"\"\n",
    "        links = [link.get('href') for link in soup.find_all('a')]\n",
    "        self.links = [link for link in links if link]\n",
    "        \n",
    "    def get_site_contents(self):\n",
    "         return f\"Webpage Title:\\n{self.title}\\nWebpage Contents:\\n{self.text}\\n\\n\"\n",
    "           \n",
    "                "
   ]
  },
  {
   "cell_type": "code",
   "execution_count": 6,
   "id": "80d6b198-24c8-4127-a576-cd349758197b",
   "metadata": {
    "tags": []
   },
   "outputs": [],
   "source": [
    "site = ScrapStaticWebsite(\"https://www.jrvs.ca/\",headers)"
   ]
  },
  {
   "cell_type": "code",
   "execution_count": 7,
   "id": "80dc5c00-2fe0-4327-9fd1-f9a1df6cbb18",
   "metadata": {
    "tags": []
   },
   "outputs": [
    {
     "name": "stdout",
     "output_type": "stream",
     "text": [
      "Webpage Title:\n",
      "Jarvis Consulting Group | Innovate. Empower. Impact\n",
      "Webpage Contents:\n",
      "EMPOWERING AI, DATA & TECH\n",
      "INNOVATION FOR POSITIVE IMPACT\n",
      "Our Expertise\n",
      "MirageAI\n",
      "DATA MODERNIZATION WITHOUT COMPROMISING SECURITY\n",
      "Learn more\n",
      "EMPOWERING AI, DATA & TECH\n",
      "INNOVATION FOR POSITIVE IMPACT\n",
      "Our Expertise\n",
      "MirageAI\n",
      "DATA MODERNIZATION WITHOUT COMPROMISING SECURITY\n",
      "Learn more\n",
      "EMPOWERING AI, DATA & TECH\n",
      "INNOVATION FOR POSITIVE IMPACT\n",
      "Our Expertise\n",
      "MirageAI\n",
      "DATA MODERNIZATION WITHOUT COMPROMISING SECURITY\n",
      "Learn more\n",
      "EMPOWERING AI, DATA & TECH\n",
      "INNOVATION FOR POSITIVE IMPACT\n",
      "Our Expertise\n",
      "MirageAI\n",
      "DATA MODERNIZATION WITHOUT COMPROMISING SECURITY\n",
      "Learn more\n",
      "MirageAI\n",
      "Services\n",
      "Company\n",
      "Careers\n",
      "Select Language\n",
      "English\n",
      "French (Canada)\n",
      "At Jarvis,\n",
      "WE EMPOWER INNOVATION\n",
      "IN DATA, AI & TECHNOLOGY\n",
      "TO DRIVE POSITIVE IMPACT\n",
      "Our Expertise\n",
      "MirageAI\n",
      "DATA MODERNIZATION WITHOUT COMPROMISING SECURITY\n",
      "Learn more\n",
      "At Jarvis,\n",
      "WE EMPOWER INNOVATION\n",
      "IN DATA, AI & TECHNOLOGY\n",
      "TO DRIVE POSITIVE IMPACT\n",
      "Our Expertise\n",
      "MirageAI\n",
      "DATA MODERNIZATION WITHOUT COMPROMISING SECURITY\n",
      "Learn more\n",
      "At Jarvis,\n",
      "WE EMPOWER INNOVATION\n",
      "IN DATA, AI & TECHNOLOGY\n",
      "TO DRIVE POSITIVE IMPACT\n",
      "Our Expertise\n",
      "MirageAI\n",
      "DATA MODERNIZATION WITHOUT COMPROMISING SECURITY\n",
      "Learn more\n",
      "At Jarvis,\n",
      "WE EMPOWER INNOVATION\n",
      "IN DATA, AI & TECHNOLOGY\n",
      "TO DRIVE POSITIVE IMPACT\n",
      "Our Expertise\n",
      "MirageAI\n",
      "DATA MODERNIZATION WITHOUT COMPROMISING SECURITY\n",
      "Learn more\n",
      "WHO WE ARE\n",
      "WHO WE ARE\n",
      "At Jarvis, our team of expert advisors and technologists solves the toughest challenges in data, AI, and more by leveraging proven technologies and delivering forward-thinking solutions for transformative outcomes.\n",
      "We strive to make a positive impact together by understanding your unique needs and developing lasting client relationships.\n",
      "LET'S STOP TALKING ABOUT DATA AND AI.\n",
      "AT JARVIS, WE ACT ON TURNING DATA, AI & TECH CONCEPTS INTO REALITY.\n",
      "AT JARVIS, WE ACT ON TURNING DATA, AI & TECH CONCEPTS INTO REALITY.\n",
      "As organizations embark on their digital transformation journey, the value of democratizing their data is clear.\n",
      "The key is to make data actionable for AI. This is not an overnight solution because data is often siloed across on-premises, multiple clouds, and at the edge.\n",
      "Our experts introduce a data & AI-ready platform as an integrated system designed to support the development, deployment and operation of AI models for your organization with your data.\n",
      "To realize the full potential of AI, organizations need to build a data & AI platform that's secure, scalable, and future-ready. It includes robust data ingestion, automated data transformation capabilities, integrated AI & ML tools, and optimized compute resources.\n",
      "On this modernized foundation, Jarvis delivers AI use cases that provide value by enhancing client experiences, boosting productivity, reimagining business processes, and enabling data to be available for decision-makers in ways that were not possible before.\n",
      "Team Jarvis is here to help you build your own AI and data success.\n",
      "What we offer\n",
      "Data and AI\n",
      "Advanced Analytics\n",
      "Cloud & Architecture\n",
      "Digital Transformation\n",
      "Financial Crime & AML\n",
      "Talent & Organization\n",
      "AI and Data\n",
      "What we offer\n",
      "Assisting clients in developing technology strategies aligned with their business goals, identifying emerging technologies, and recommending implementation approaches.\n",
      "Leverage the strength of data and AI strategies to revolutionize your business practices. We design and deploy tailor-made AI and data solutions that streamline operations, promote informed decision-making, and reveal undisclosed trends in your data.\n",
      "What we offer\n",
      "AI and Data\n",
      "AI and Data\n",
      "Discover Data & AI\n",
      "Discover Data & AI\n",
      "Discover Data & AI\n",
      "Unlock the potential of your data with advanced analytics that goes beyond simple reports. We utilize intricate models and artificial intelligence methods to provide practical insight that drives business growth.\n",
      "Advanced Analytics\n",
      "Advanced Analytics\n",
      "Discover Analytics\n",
      "Discover Analytics\n",
      "Discover Analytics\n",
      "Advanced Analytics\n",
      "Design, build, and manage cloud architectures that are secure, scalable, and aligned with your business goals. Our solutions ensure that your IT infrastructure is resilient, cost-effective, and capable of supporting your future needs.\n",
      "Cloud & Architecture\n",
      "Cloud & Architecture\n",
      "Discover Cloud\n",
      "Discover Cloud\n",
      "Discover Cloud\n",
      "Cloud Architecture\n",
      "Lead your industry by embracing digital transformation that reshapes how you operate and engage with customers. Our solutions drive innovation, improve efficiency, and create new value for your customers.\n",
      "Digital Transformation\n",
      "Digital Transformation\n",
      "Discover Digital Transformation\n",
      "Discover Digital Transformation\n",
      "Discover Digital Transformation\n",
      "Digital Transformation\n",
      "Leverage cutting-edge technology to protect your organization against financial crime and ensure Anti-Money Laundering compliance. We provide expert AI and data-driven solutions for regulatory adherence, risk assessment, and the deployment of advanced detection systems.\n",
      "Financial Crime & AML\n",
      "Financial Crime & AML\n",
      "Discover FinCrime & AML\n",
      "Discover FinCrime & AML\n",
      "Discover FinCrime & AML\n",
      "Financial Crime & AML\n",
      "Talent & Organization\n",
      "Access high-aptitude, certified, and industry-specific trained talent to build a sustainable workforce for lasting impact. Our unique talent model provides a scalable solution for creating a thriving talent pipeline\n",
      "Talent & Organization\n",
      "Talent & Organization\n",
      "Talent Incubation\n",
      "Talent Incubation\n",
      "Talent Incubation\n",
      "WHO WE ARE\n",
      "At Jarvis, we solve the toughest challenges in data, AI, and technology by leveraging proven technologies to empower organizations to innovate and drive business success.\n",
      "Our team of expert advisors and technologists delivers forward-thinking solutions for transformative outcomes. We strive to develop lasting client partnerships, understand your unique needs, and make a positive impact together.\n",
      "LET'S STOP TALKING ABOUT DATA AND AI.\n",
      "AT JARVIS, WE ACT ON TURNING DATA, AI & TECH CONCEPTS INTO REALITY.\n",
      "As organizations embark on their digital transformation journey, the value of democratizing their data is now clear.\n",
      "The key is to make data actionable for AI. This is not an overnight solution because data is often siloed across on-premises, multiple clouds, and at the edge.\n",
      "Our experts introduce an data & AI-ready platform as an integrated system designed to support the development, deployment and operation of AI models for your organization with your data.\n",
      "To realize the full potential of AI, organizations need to build a data & AI platform that's secure, scalable, and future-ready. It includes robust data ingestion, automated data transformation capabilities, integrated AI & ML tools, and optimized compute resources.\n",
      "On this modernized foundation, Jarvis delivers AI use cases that provide value by enhancing client experiences, boosting productivity, reimagining business processes, and enabling data to be available for decision-makers in ways that were not possible before.\n",
      "Team Jarvis is here to help you build your own AI and data success.\n",
      "Strategic\n",
      "Alliances\n",
      "Strategic\n",
      "Alliances\n",
      "Strategic\n",
      "Alliances\n",
      "Jarvis's Strategic Partnerships and Alliances offer tailored technology solutions to meet your organization's toughest business needs. Explore a variety of funding options for a seamless integration with our expert support.\n",
      "Our Clients\n",
      "At Jarvis, our clients are at the heart of everything we do. We partner with organizations of all sizes and industries, to provide tailored AI, data and technology solutions that drive success.\n",
      "Our Clients\n",
      "At Jarvis, our clients are at the heart of everything we do. We partner with organizations of all sizes and industries, to provide tailored AI, data and technology solutions that drive success.\n",
      "Our Clients\n",
      "At Jarvis, our clients are at the heart of everything we do. We partner with organizations of all sizes and industries, to provide tailored AI, data and technology solutions that drive success.\n",
      "Our Clients\n",
      "At Jarvis, our clients are at the heart of everything we do. We partner with organizations of all sizes and industries, to provide tailored AI, data and technology solutions that drive success.\n",
      "Our Clients\n",
      "At Jarvis, our clients are at the heart of everything we do. We partner with organizations of all sizes and industries, to provide tailored AI, data and technology solutions that drive success.\n",
      "What Our Clients Say\n",
      "Robin Matthews-Kanhai\n",
      "Director, Operations and Strategic Support\n",
      "Working with Jarvis has been excellent. Their communication, focus, and quality work exceeded my expectations. They provide insightful, goal-aligned solutions and a valuable external perspective, adding long-term value to our organization.\n",
      "Jean-François Deslauriers\n",
      "Senior Manager, IT Delivery\n",
      "\"The technologists from the Jarvis stood out from the rest through their curiosity and willingness to learn. This translates into employees that are dedicated, motivated, and eager to contribute to the team.\"\n",
      "What Our Clients Say\n",
      "Robin Matthews-Kanhai\n",
      "Director, Operations and Strategic Support\n",
      "Working with Jarvis has been excellent. Their communication, focus, and quality work exceeded my expectations. They provide insightful, goal-aligned solutions and a valuable external perspective, adding long-term value to our organization.\n",
      "Jean-François Deslauriers\n",
      "Senior Manager, IT Delivery\n",
      "\"The technologists from the Jarvis stood out from the rest through their curiosity and willingness to learn. This translates into employees that are dedicated, motivated, and eager to contribute to the team.\"\n",
      "What Our Clients Say\n",
      "Robin Matthews-Kanhai\n",
      "Director, Operations and Strategic Support\n",
      "Working with Jarvis has been excellent. Their communication, focus, and quality work exceeded my expectations. They provide insightful, goal-aligned solutions and a valuable external perspective, adding long-term value to our organization.\n",
      "Jean-François Deslauriers\n",
      "Senior Manager, IT Delivery\n",
      "\"The technologists from the Jarvis stood out from the rest through their curiosity and willingness to learn. This translates into employees that are dedicated, motivated, and eager to contribute to the team.\"\n",
      "What Our Clients Say\n",
      "Jean-François Deslauriers\n",
      "Senior Manager, IT Delivery\n",
      "\"The technologists from the Jarvis stood out from the rest through their curiosity and willingness to learn. This translates into employees that are dedicated, motivated, and eager to contribute to the team.\"\n",
      "Robin Matthews-Kanhai\n",
      "Director, Operations and Strategic Support\n",
      "Working with Jarvis has been excellent. Their communication, focus, and quality work exceeded my expectations. They provide insightful, goal-aligned solutions and a valuable external perspective, adding long-term value to our organization.\n",
      "What Our Clients Say\n",
      "Robin Matthews-Kanhai\n",
      "Director, Operations and Strategic Support\n",
      "Working with Jarvis has been excellent. Their communication, focus, and quality work exceeded my expectations. They provide insightful, goal-aligned solutions and a valuable external perspective, adding long-term value to our organization.\n",
      "Jean-François Deslauriers\n",
      "Senior Manager, IT Delivery\n",
      "\"The technologists from the Jarvis stood out from the rest through their curiosity and willingness to learn. This translates into employees that are dedicated, motivated, and eager to contribute to the team.\"\n",
      "Insights\n",
      "Inside our new Western Canada office: A conversation with Alan Williamson\n",
      "Apr 16, 2025\n",
      "Should You Consider Databricks for SAP? Here’s What Your Data is Missing\n",
      "Apr 10, 2025\n",
      "Jarvis Consulting Group Announces Expansion to Western Canada to Drive Innovation Across the Country\n",
      "Mar 26, 2025\n",
      "See all\n",
      "Insights\n",
      "Inside our new Western Canada office: A conversation with Alan Williamson\n",
      "Apr 16, 2025\n",
      "Should You Consider Databricks for SAP? Here’s What Your Data is Missing\n",
      "Apr 10, 2025\n",
      "Jarvis Consulting Group Announces Expansion to Western Canada to Drive Innovation Across the Country\n",
      "Mar 26, 2025\n",
      "See all\n",
      "Insights\n",
      "Inside our new Western Canada office: A conversation with Alan Williamson\n",
      "Apr 16, 2025\n",
      "Should You Consider Databricks for SAP? Here’s What Your Data is Missing\n",
      "Apr 10, 2025\n",
      "Jarvis Consulting Group Announces Expansion to Western Canada to Drive Innovation Across the Country\n",
      "Mar 26, 2025\n",
      "See all\n",
      "Insights\n",
      "Inside our new Western Canada office: A conversation with Alan Williamson\n",
      "Apr 16, 2025\n",
      "Should You Consider Databricks for SAP? Here’s What Your Data is Missing\n",
      "Apr 10, 2025\n",
      "Jarvis Consulting Group Announces Expansion to Western Canada to Drive Innovation Across the Country\n",
      "Mar 26, 2025\n",
      "See all\n",
      "Insights\n",
      "Inside our new Western Canada office: A conversation with Alan Williamson\n",
      "Apr 16, 2025\n",
      "Should You Consider Databricks for SAP? Here’s What Your Data is Missing\n",
      "Apr 10, 2025\n",
      "Jarvis Consulting Group Announces Expansion to Western Canada to Drive Innovation Across the Country\n",
      "Mar 26, 2025\n",
      "See all\n",
      "Let's Innovate. Empower.\n",
      "Impact. Together\n",
      ".\n",
      "Get in touch\n",
      "Gain access to exclusive insights & events.\n",
      "Subscribe to updates\n",
      "Careers\n",
      "About Us\n",
      "Contact Us\n",
      "MirageAI\n",
      "Our Services\n",
      "Our Impact\n",
      "LinkedIn\n",
      "Instagram\n",
      "Facebook\n",
      "Our Alliances\n",
      "Privacy Policy\n",
      "Terms & Conditions\n",
      "© 2024 Jarvis Consulting Group. All Rights Reserved.\n",
      "Let's Innovate. Empower.\n",
      "Impact. Together\n",
      ".\n",
      "Get in touch\n",
      "Gain access to exclusive insights & events.\n",
      "Subscribe to updates\n",
      "Careers\n",
      "About Us\n",
      "Contact Us\n",
      "MirageAI\n",
      "Our Services\n",
      "Our Impact\n",
      "LinkedIn\n",
      "Instagram\n",
      "Facebook\n",
      "Our Alliances\n",
      "Privacy Policy\n",
      "Terms & Conditions\n",
      "© 2024 Jarvis Consulting Group. All Rights Reserved.\n",
      "Let's Innovate. Empower.\n",
      "Impact. Together\n",
      ".\n",
      "Get in touch\n",
      "Gain access to exclusive insights & events.\n",
      "Subscribe to updates\n",
      "Careers\n",
      "About Us\n",
      "Contact Us\n",
      "MirageAI\n",
      "Our Services\n",
      "Our Impact\n",
      "LinkedIn\n",
      "Instagram\n",
      "Facebook\n",
      "Our Alliances\n",
      "Privacy Policy\n",
      "Terms & Conditions\n",
      "© 2024 Jarvis Consulting Group. All Rights Reserved.\n",
      "Let's Innovate. Empower.\n",
      "Impact. Together.\n",
      "Get in touch\n",
      "Gain access to exclusive insights & events.\n",
      "Subscribe to updates\n",
      "Careers\n",
      "About Us\n",
      "Contact Us\n",
      "MirageAI\n",
      "Our Services\n",
      "Our Impact\n",
      "LinkedIn\n",
      "Instagram\n",
      "Facebook\n",
      "Our Alliances\n",
      "Privacy Policy\n",
      "Terms & Conditions\n",
      "© 2024 Jarvis Consulting Group. All Rights Reserved.\n",
      "Let's Innovate.\n",
      "Empower.\n",
      "Impact.\n",
      "Together.\n",
      "Get in touch\n",
      "Gain access to exclusive insights & events.\n",
      "Subscribe to updates\n",
      "Careers\n",
      "About Us\n",
      "Contact Us\n",
      "MirageAI\n",
      "Our Services\n",
      "Our Impact\n",
      "LinkedIn\n",
      "Instagram\n",
      "Facebook\n",
      "Our Alliances\n",
      "Privacy Policy\n",
      "Terms & Conditions\n",
      "© 2024 Jarvis Consulting Group. All Rights Reserved.\n",
      "\n",
      "\n"
     ]
    }
   ],
   "source": [
    "print(site.get_site_contents())"
   ]
  },
  {
   "cell_type": "code",
   "execution_count": 8,
   "id": "ccb14c76-f930-4a48-b5de-c18ac2d5392d",
   "metadata": {
    "tags": []
   },
   "outputs": [
    {
     "name": "stdout",
     "output_type": "stream",
     "text": [
      "['./#ai', './#ai', './#ai', './#ai', './story/mirageai-advantage#background', './#ai', './#ai', './#ai', './#ai', './story/mirageai-advantage#background', './#ai', './#ai', './#ai', './#ai', './story/mirageai-advantage#background', './#ai', './#ai', './#ai', './#ai', './story/mirageai-advantage#background', './', './mirage-ai', './about-us', './careers', './', './#ai', './story/mirageai-advantage#background', './#ai', './story/mirageai-advantage#background', './#ai', './story/mirageai-advantage#background', './#ai', './story/mirageai-advantage#background', './#ai', './#advanced', './#cloud', './#digital', './#financial', './#talent', './data-and-ai', './data-and-ai', './data-and-ai', './data-and-ai', './data-and-ai', './data-and-ai', './data-and-ai', './advanced-analytics', './advanced-analytics', './advanced-analytics', './data-and-ai', './data-and-ai', './cloud-and-architecture', './cloud-and-architecture', './cloud-and-architecture', './data-and-ai', './data-and-ai', './digital-transformation', './digital-transformation', './digital-transformation', './data-and-ai', './data-and-ai', './financial-crime-aml', './financial-crime-aml', './financial-crime-aml', './data-and-ai', './data-and-ai', './talent-incubation-for-client', './talent-incubation-for-client', './talent-incubation-for-client', './blog/inside-our-new-western-canada-office-a-conversation-with-alan-williamson', './blog/inside-our-new-western-canada-office-a-conversation-with-alan-williamson', './blog/should-you-consider-databricks-for-sap-here-s-what-your-data-is-missing', './blog/should-you-consider-databricks-for-sap-here-s-what-your-data-is-missing', './blog/jarvis-consulting-group-announces-expansion-to-western-canada-to-drive-innovation-across-the-country', './blog/jarvis-consulting-group-announces-expansion-to-western-canada-to-drive-innovation-across-the-country', './blog', './blog/inside-our-new-western-canada-office-a-conversation-with-alan-williamson', './blog/inside-our-new-western-canada-office-a-conversation-with-alan-williamson', './blog/should-you-consider-databricks-for-sap-here-s-what-your-data-is-missing', './blog/should-you-consider-databricks-for-sap-here-s-what-your-data-is-missing', './blog/jarvis-consulting-group-announces-expansion-to-western-canada-to-drive-innovation-across-the-country', './blog/jarvis-consulting-group-announces-expansion-to-western-canada-to-drive-innovation-across-the-country', './blog', './blog/inside-our-new-western-canada-office-a-conversation-with-alan-williamson', './blog/inside-our-new-western-canada-office-a-conversation-with-alan-williamson', './blog/should-you-consider-databricks-for-sap-here-s-what-your-data-is-missing', './blog/should-you-consider-databricks-for-sap-here-s-what-your-data-is-missing', './blog/jarvis-consulting-group-announces-expansion-to-western-canada-to-drive-innovation-across-the-country', './blog/jarvis-consulting-group-announces-expansion-to-western-canada-to-drive-innovation-across-the-country', './blog', './blog/inside-our-new-western-canada-office-a-conversation-with-alan-williamson', './blog/inside-our-new-western-canada-office-a-conversation-with-alan-williamson', './blog/should-you-consider-databricks-for-sap-here-s-what-your-data-is-missing', './blog/should-you-consider-databricks-for-sap-here-s-what-your-data-is-missing', './blog/jarvis-consulting-group-announces-expansion-to-western-canada-to-drive-innovation-across-the-country', './blog/jarvis-consulting-group-announces-expansion-to-western-canada-to-drive-innovation-across-the-country', './blog', './blog/inside-our-new-western-canada-office-a-conversation-with-alan-williamson', './blog/inside-our-new-western-canada-office-a-conversation-with-alan-williamson', './blog/should-you-consider-databricks-for-sap-here-s-what-your-data-is-missing', './blog/should-you-consider-databricks-for-sap-here-s-what-your-data-is-missing', './blog/jarvis-consulting-group-announces-expansion-to-western-canada-to-drive-innovation-across-the-country', './blog/jarvis-consulting-group-announces-expansion-to-western-canada-to-drive-innovation-across-the-country', './blog', './contact-us#form', './careers', './about-us', './contact-us', './mirage-ai', './#ai', './our-impact', 'https://www.linkedin.com/company/jarvisconsulting/', 'https://www.instagram.com/jarvisconsultinggroup/', 'https://www.facebook.com/jarvisconsultinggroup', './blog/databricks', './terms-and-policy/privacy-policy', './terms-and-policy/terms-conditions', './contact-us#form', './careers', './about-us', './contact-us', './mirage-ai', './#ai', './our-impact', 'https://www.linkedin.com/company/jarvisconsulting/', 'https://www.instagram.com/jarvisconsultinggroup/', 'https://www.facebook.com/jarvisconsultinggroup', './blog/databricks', './terms-and-policy/privacy-policy', './terms-and-policy/terms-conditions', './contact-us#form', './careers', './about-us', './contact-us', './mirage-ai', './#ai', './our-impact', 'https://www.linkedin.com/company/jarvisconsulting/', 'https://www.instagram.com/jarvisconsultinggroup/', 'https://www.facebook.com/jarvisconsultinggroup', './blog/databricks', './terms-and-policy/privacy-policy', './terms-and-policy/terms-conditions', './contact-us#form', './careers', './about-us', './contact-us', './mirage-ai', './#ai', './our-impact', 'https://www.linkedin.com/company/jarvisconsulting/', 'https://www.instagram.com/jarvisconsultinggroup/', 'https://www.facebook.com/jarvisconsultinggroup', './blog/databricks', './terms-and-policy/privacy-policy', './terms-and-policy/terms-conditions', './contact-us#form', './careers', './about-us', './contact-us', './mirage-ai', './#ai', './our-impact', 'https://www.linkedin.com/company/jarvisconsulting/', 'https://www.instagram.com/jarvisconsultinggroup/', 'https://www.facebook.com/jarvisconsultinggroup', './blog/databricks', './terms-and-policy/privacy-policy', './terms-and-policy/terms-conditions']\n"
     ]
    }
   ],
   "source": [
    "print(site.links)"
   ]
  },
  {
   "cell_type": "code",
   "execution_count": 9,
   "id": "bb3da57b-3f90-432b-adde-01c7dffb6cae",
   "metadata": {
    "tags": []
   },
   "outputs": [],
   "source": [
    "# Here is the system prompt for our LLM\n",
    "link_system_prompt = \"You are provided with a list of links found on a webpage.\\\n",
    "You must choose the links that would be the most relevant to include in a brochure about the company,\\\n",
    "such as links to an About page, or a Company page or a or Careers/Jobs pages or a Services page.\\n\"\n",
    "\n",
    "link_system_prompt += \"You should respond in JSON as in this example:\"\n",
    "\n",
    "link_system_prompt += \"\"\"\n",
    "{\n",
    "    \"links\": [\n",
    "        {\"type\": \"about page\", \"url\": \"https://full.url/goes/here/about\"},\n",
    "        {\"type\": \"careers page\": \"url\": \"https://another.full.url/careers\"},\n",
    "        {\"type\": \"services page\": \"url\": \"https://another.full.url/services\"}\n",
    "    ]\n",
    "}\n",
    "\"\"\""
   ]
  },
  {
   "cell_type": "code",
   "execution_count": 10,
   "id": "53375f9d-a146-4a43-816b-dfff83110777",
   "metadata": {
    "tags": []
   },
   "outputs": [
    {
     "name": "stdout",
     "output_type": "stream",
     "text": [
      "You are provided with a list of links found on a webpage.You must choose the links that would be the most relevant to include in a brochure about the company,such as links to an About page, or a Company page or a or Careers/Jobs pages or a Services page.\n",
      "You should respond in JSON as in this example:\n",
      "{\n",
      "    \"links\": [\n",
      "        {\"type\": \"about page\", \"url\": \"https://full.url/goes/here/about\"},\n",
      "        {\"type\": \"careers page\": \"url\": \"https://another.full.url/careers\"},\n",
      "        {\"type\": \"services page\": \"url\": \"https://another.full.url/services\"}\n",
      "    ]\n",
      "}\n",
      "\n"
     ]
    }
   ],
   "source": [
    "print(link_system_prompt)"
   ]
  },
  {
   "cell_type": "code",
   "execution_count": 11,
   "id": "9de01282-3da9-4296-9228-b96a918e8d8b",
   "metadata": {
    "tags": []
   },
   "outputs": [],
   "source": [
    "\n",
    "def get_site_links(site):\n",
    "    user_prompt = f\"Here is the list of links on the website of {site.url} - \"\n",
    "    user_prompt = \"please decide which of these are relevant web links for a brochure about the company, respond with the full https URL in JSON format. \\\n",
    "Do not include Terms of Service, Privacy, email links.\\n\"\n",
    "    user_prompt += \"Links (some might be relative links):\\n\"\n",
    "    user_prompt += \"\\n\".join(site.links)\n",
    "    return user_prompt\n",
    "    "
   ]
  },
  {
   "cell_type": "code",
   "execution_count": 12,
   "id": "4297ceb1-410f-4ff3-a17d-a99ab6467723",
   "metadata": {
    "tags": []
   },
   "outputs": [
    {
     "name": "stdout",
     "output_type": "stream",
     "text": [
      "please decide which of these are relevant web links for a brochure about the company, respond with the full https URL in JSON format. Do not include Terms of Service, Privacy, email links.\n",
      "Links (some might be relative links):\n",
      "./#ai\n",
      "./#ai\n",
      "./#ai\n",
      "./#ai\n",
      "./story/mirageai-advantage#background\n",
      "./#ai\n",
      "./#ai\n",
      "./#ai\n",
      "./#ai\n",
      "./story/mirageai-advantage#background\n",
      "./#ai\n",
      "./#ai\n",
      "./#ai\n",
      "./#ai\n",
      "./story/mirageai-advantage#background\n",
      "./#ai\n",
      "./#ai\n",
      "./#ai\n",
      "./#ai\n",
      "./story/mirageai-advantage#background\n",
      "./\n",
      "./mirage-ai\n",
      "./about-us\n",
      "./careers\n",
      "./\n",
      "./#ai\n",
      "./story/mirageai-advantage#background\n",
      "./#ai\n",
      "./story/mirageai-advantage#background\n",
      "./#ai\n",
      "./story/mirageai-advantage#background\n",
      "./#ai\n",
      "./story/mirageai-advantage#background\n",
      "./#ai\n",
      "./#advanced\n",
      "./#cloud\n",
      "./#digital\n",
      "./#financial\n",
      "./#talent\n",
      "./data-and-ai\n",
      "./data-and-ai\n",
      "./data-and-ai\n",
      "./data-and-ai\n",
      "./data-and-ai\n",
      "./data-and-ai\n",
      "./data-and-ai\n",
      "./advanced-analytics\n",
      "./advanced-analytics\n",
      "./advanced-analytics\n",
      "./data-and-ai\n",
      "./data-and-ai\n",
      "./cloud-and-architecture\n",
      "./cloud-and-architecture\n",
      "./cloud-and-architecture\n",
      "./data-and-ai\n",
      "./data-and-ai\n",
      "./digital-transformation\n",
      "./digital-transformation\n",
      "./digital-transformation\n",
      "./data-and-ai\n",
      "./data-and-ai\n",
      "./financial-crime-aml\n",
      "./financial-crime-aml\n",
      "./financial-crime-aml\n",
      "./data-and-ai\n",
      "./data-and-ai\n",
      "./talent-incubation-for-client\n",
      "./talent-incubation-for-client\n",
      "./talent-incubation-for-client\n",
      "./blog/inside-our-new-western-canada-office-a-conversation-with-alan-williamson\n",
      "./blog/inside-our-new-western-canada-office-a-conversation-with-alan-williamson\n",
      "./blog/should-you-consider-databricks-for-sap-here-s-what-your-data-is-missing\n",
      "./blog/should-you-consider-databricks-for-sap-here-s-what-your-data-is-missing\n",
      "./blog/jarvis-consulting-group-announces-expansion-to-western-canada-to-drive-innovation-across-the-country\n",
      "./blog/jarvis-consulting-group-announces-expansion-to-western-canada-to-drive-innovation-across-the-country\n",
      "./blog\n",
      "./blog/inside-our-new-western-canada-office-a-conversation-with-alan-williamson\n",
      "./blog/inside-our-new-western-canada-office-a-conversation-with-alan-williamson\n",
      "./blog/should-you-consider-databricks-for-sap-here-s-what-your-data-is-missing\n",
      "./blog/should-you-consider-databricks-for-sap-here-s-what-your-data-is-missing\n",
      "./blog/jarvis-consulting-group-announces-expansion-to-western-canada-to-drive-innovation-across-the-country\n",
      "./blog/jarvis-consulting-group-announces-expansion-to-western-canada-to-drive-innovation-across-the-country\n",
      "./blog\n",
      "./blog/inside-our-new-western-canada-office-a-conversation-with-alan-williamson\n",
      "./blog/inside-our-new-western-canada-office-a-conversation-with-alan-williamson\n",
      "./blog/should-you-consider-databricks-for-sap-here-s-what-your-data-is-missing\n",
      "./blog/should-you-consider-databricks-for-sap-here-s-what-your-data-is-missing\n",
      "./blog/jarvis-consulting-group-announces-expansion-to-western-canada-to-drive-innovation-across-the-country\n",
      "./blog/jarvis-consulting-group-announces-expansion-to-western-canada-to-drive-innovation-across-the-country\n",
      "./blog\n",
      "./blog/inside-our-new-western-canada-office-a-conversation-with-alan-williamson\n",
      "./blog/inside-our-new-western-canada-office-a-conversation-with-alan-williamson\n",
      "./blog/should-you-consider-databricks-for-sap-here-s-what-your-data-is-missing\n",
      "./blog/should-you-consider-databricks-for-sap-here-s-what-your-data-is-missing\n",
      "./blog/jarvis-consulting-group-announces-expansion-to-western-canada-to-drive-innovation-across-the-country\n",
      "./blog/jarvis-consulting-group-announces-expansion-to-western-canada-to-drive-innovation-across-the-country\n",
      "./blog\n",
      "./blog/inside-our-new-western-canada-office-a-conversation-with-alan-williamson\n",
      "./blog/inside-our-new-western-canada-office-a-conversation-with-alan-williamson\n",
      "./blog/should-you-consider-databricks-for-sap-here-s-what-your-data-is-missing\n",
      "./blog/should-you-consider-databricks-for-sap-here-s-what-your-data-is-missing\n",
      "./blog/jarvis-consulting-group-announces-expansion-to-western-canada-to-drive-innovation-across-the-country\n",
      "./blog/jarvis-consulting-group-announces-expansion-to-western-canada-to-drive-innovation-across-the-country\n",
      "./blog\n",
      "./contact-us#form\n",
      "./careers\n",
      "./about-us\n",
      "./contact-us\n",
      "./mirage-ai\n",
      "./#ai\n",
      "./our-impact\n",
      "https://www.linkedin.com/company/jarvisconsulting/\n",
      "https://www.instagram.com/jarvisconsultinggroup/\n",
      "https://www.facebook.com/jarvisconsultinggroup\n",
      "./blog/databricks\n",
      "./terms-and-policy/privacy-policy\n",
      "./terms-and-policy/terms-conditions\n",
      "./contact-us#form\n",
      "./careers\n",
      "./about-us\n",
      "./contact-us\n",
      "./mirage-ai\n",
      "./#ai\n",
      "./our-impact\n",
      "https://www.linkedin.com/company/jarvisconsulting/\n",
      "https://www.instagram.com/jarvisconsultinggroup/\n",
      "https://www.facebook.com/jarvisconsultinggroup\n",
      "./blog/databricks\n",
      "./terms-and-policy/privacy-policy\n",
      "./terms-and-policy/terms-conditions\n",
      "./contact-us#form\n",
      "./careers\n",
      "./about-us\n",
      "./contact-us\n",
      "./mirage-ai\n",
      "./#ai\n",
      "./our-impact\n",
      "https://www.linkedin.com/company/jarvisconsulting/\n",
      "https://www.instagram.com/jarvisconsultinggroup/\n",
      "https://www.facebook.com/jarvisconsultinggroup\n",
      "./blog/databricks\n",
      "./terms-and-policy/privacy-policy\n",
      "./terms-and-policy/terms-conditions\n",
      "./contact-us#form\n",
      "./careers\n",
      "./about-us\n",
      "./contact-us\n",
      "./mirage-ai\n",
      "./#ai\n",
      "./our-impact\n",
      "https://www.linkedin.com/company/jarvisconsulting/\n",
      "https://www.instagram.com/jarvisconsultinggroup/\n",
      "https://www.facebook.com/jarvisconsultinggroup\n",
      "./blog/databricks\n",
      "./terms-and-policy/privacy-policy\n",
      "./terms-and-policy/terms-conditions\n",
      "./contact-us#form\n",
      "./careers\n",
      "./about-us\n",
      "./contact-us\n",
      "./mirage-ai\n",
      "./#ai\n",
      "./our-impact\n",
      "https://www.linkedin.com/company/jarvisconsulting/\n",
      "https://www.instagram.com/jarvisconsultinggroup/\n",
      "https://www.facebook.com/jarvisconsultinggroup\n",
      "./blog/databricks\n",
      "./terms-and-policy/privacy-policy\n",
      "./terms-and-policy/terms-conditions\n"
     ]
    }
   ],
   "source": [
    "print(get_site_links(site))"
   ]
  },
  {
   "cell_type": "code",
   "execution_count": 13,
   "id": "ccb03f54-d4bd-4bac-b1bb-b0fbe97a8a34",
   "metadata": {
    "tags": []
   },
   "outputs": [],
   "source": [
    "# This method extracts the links present on the website we've scrapped\n",
    "def get_links(url,headers):\n",
    "    site = ScrapStaticWebsite(url,headers)\n",
    "    response = openai.chat.completions.create(\n",
    "        model = Model,\n",
    "        messages = [\n",
    "        {\"role\":\"system\",\"content\":link_system_prompt},\n",
    "        {\"role\":\"user\",\"content\":get_site_links(site)}\n",
    "        ],\n",
    "        response_format = {\"type\":\"json_object\"}\n",
    "    )\n",
    "    result = response.choices[0].message.content\n",
    "    return json.loads(result)\n",
    "    "
   ]
  },
  {
   "cell_type": "code",
   "execution_count": 14,
   "id": "403d7ee8-288b-4b1b-91ab-40d439d4f0d2",
   "metadata": {
    "tags": []
   },
   "outputs": [
    {
     "data": {
      "text/plain": [
       "{'links': [{'type': 'about page', 'url': 'https://www.example.com/about-us'},\n",
       "  {'type': 'careers page', 'url': 'https://www.example.com/careers'},\n",
       "  {'type': 'company page', 'url': 'https://www.example.com/mirage-ai'},\n",
       "  {'type': 'our impact page', 'url': 'https://www.example.com/our-impact'}]}"
      ]
     },
     "execution_count": 14,
     "metadata": {},
     "output_type": "execute_result"
    }
   ],
   "source": [
    "get_links(\"https://www.jrvs.ca/\",headers)"
   ]
  },
  {
   "cell_type": "code",
   "execution_count": 15,
   "id": "f058d648-9093-4954-b1fe-0cd27f54178d",
   "metadata": {
    "tags": []
   },
   "outputs": [],
   "source": [
    "system_prompt = \"You are an assistant that analyzes the contents of several relevant pages from a company website \\\n",
    "and creates a short brochure about the company for prospective customers, investors and recruits. Respond in markdown.\\\n",
    "Include details of company culture, customers and careers/jobs if you have the information.\""
   ]
  },
  {
   "cell_type": "code",
   "execution_count": 16,
   "id": "a25b91c9-7a20-4444-9bad-3f54d9bbf47a",
   "metadata": {
    "tags": []
   },
   "outputs": [],
   "source": [
    "def get_all_details(url,headers):\n",
    "    result = \"Landing page:\\n\"\n",
    "    result += ScrapStaticWebsite(url,headers).get_site_contents()\n",
    "    links = get_links(url,headers)\n",
    "    print(\"Found links:\", links)\n",
    "    for link in links[\"links\"]:\n",
    "        result += f\"\\n\\n{link['type']}\\n\"\n",
    "        result += ScrapStaticWebsite(link[\"url\"],headers).get_site_contents()\n",
    "    return result"
   ]
  },
  {
   "cell_type": "code",
   "execution_count": 17,
   "id": "092c203b-d8b5-4c55-963f-89898db71e40",
   "metadata": {
    "tags": []
   },
   "outputs": [],
   "source": [
    "def get_brochure_user_prompt(company_name, url,headers):\n",
    "    user_prompt = f\"You are looking at a company called: {company_name}\\n\"\n",
    "    user_prompt += f\"Here are the contents of its landing page and other relevant pages; use this information to build a short brochure of the company in markdown.\\n\"\n",
    "    user_prompt += get_all_details(url,headers)\n",
    "    user_prompt = user_prompt[:5_000] # Truncate if more than 5,000 characters\n",
    "    return user_prompt"
   ]
  },
  {
   "cell_type": "code",
   "execution_count": 18,
   "id": "5b619bce-c62e-43d7-9584-51671a3d625c",
   "metadata": {
    "tags": []
   },
   "outputs": [
    {
     "name": "stdout",
     "output_type": "stream",
     "text": [
      "Found links: {'links': [{'type': 'about page', 'url': 'https://example.com/about-us'}, {'type': 'careers page', 'url': 'https://example.com/careers'}, {'type': 'services page', 'url': 'https://example.com/mirage-ai'}, {'type': 'impact page', 'url': 'https://example.com/our-impact'}, {'type': 'company story page', 'url': 'https://example.com/story/mirageai-advantage#background'}]}\n"
     ]
    },
    {
     "data": {
      "text/plain": [
       "\"You are looking at a company called: Jarvis\\nHere are the contents of its landing page and other relevant pages; use this information to build a short brochure of the company in markdown.\\nLanding page:\\nWebpage Title:\\nJarvis Consulting Group | Innovate. Empower. Impact\\nWebpage Contents:\\nEMPOWERING AI, DATA & TECH\\nINNOVATION FOR POSITIVE IMPACT\\nOur Expertise\\nMirageAI\\nDATA MODERNIZATION WITHOUT COMPROMISING SECURITY\\nLearn more\\nEMPOWERING AI, DATA & TECH\\nINNOVATION FOR POSITIVE IMPACT\\nOur Expertise\\nMirageAI\\nDATA MODERNIZATION WITHOUT COMPROMISING SECURITY\\nLearn more\\nEMPOWERING AI, DATA & TECH\\nINNOVATION FOR POSITIVE IMPACT\\nOur Expertise\\nMirageAI\\nDATA MODERNIZATION WITHOUT COMPROMISING SECURITY\\nLearn more\\nEMPOWERING AI, DATA & TECH\\nINNOVATION FOR POSITIVE IMPACT\\nOur Expertise\\nMirageAI\\nDATA MODERNIZATION WITHOUT COMPROMISING SECURITY\\nLearn more\\nMirageAI\\nServices\\nCompany\\nCareers\\nSelect Language\\nEnglish\\nFrench (Canada)\\nAt Jarvis,\\nWE EMPOWER INNOVATION\\nIN DATA, AI & TECHNOLOGY\\nTO DRIVE POSITIVE IMPACT\\nOur Expertise\\nMirageAI\\nDATA MODERNIZATION WITHOUT COMPROMISING SECURITY\\nLearn more\\nAt Jarvis,\\nWE EMPOWER INNOVATION\\nIN DATA, AI & TECHNOLOGY\\nTO DRIVE POSITIVE IMPACT\\nOur Expertise\\nMirageAI\\nDATA MODERNIZATION WITHOUT COMPROMISING SECURITY\\nLearn more\\nAt Jarvis,\\nWE EMPOWER INNOVATION\\nIN DATA, AI & TECHNOLOGY\\nTO DRIVE POSITIVE IMPACT\\nOur Expertise\\nMirageAI\\nDATA MODERNIZATION WITHOUT COMPROMISING SECURITY\\nLearn more\\nAt Jarvis,\\nWE EMPOWER INNOVATION\\nIN DATA, AI & TECHNOLOGY\\nTO DRIVE POSITIVE IMPACT\\nOur Expertise\\nMirageAI\\nDATA MODERNIZATION WITHOUT COMPROMISING SECURITY\\nLearn more\\nWHO WE ARE\\nWHO WE ARE\\nAt Jarvis, our team of expert advisors and technologists solves the toughest challenges in data, AI, and more by leveraging proven technologies and delivering forward-thinking solutions for transformative outcomes.\\nWe strive to make a positive impact together by understanding your unique needs and developing lasting client relationships.\\nLET'S STOP TALKING ABOUT DATA AND AI.\\nAT JARVIS, WE ACT ON TURNING DATA, AI & TECH CONCEPTS INTO REALITY.\\nAT JARVIS, WE ACT ON TURNING DATA, AI & TECH CONCEPTS INTO REALITY.\\nAs organizations embark on their digital transformation journey, the value of democratizing their data is clear.\\nThe key is to make data actionable for AI. This is not an overnight solution because data is often siloed across on-premises, multiple clouds, and at the edge.\\nOur experts introduce a data & AI-ready platform as an integrated system designed to support the development, deployment and operation of AI models for your organization with your data.\\nTo realize the full potential of AI, organizations need to build a data & AI platform that's secure, scalable, and future-ready. It includes robust data ingestion, automated data transformation capabilities, integrated AI & ML tools, and optimized compute resources.\\nOn this modernized foundation, Jarvis delivers AI use cases that provide value by enhancing client experiences, boosting productivity, reimagining business processes, and enabling data to be available for decision-makers in ways that were not possible before.\\nTeam Jarvis is here to help you build your own AI and data success.\\nWhat we offer\\nData and AI\\nAdvanced Analytics\\nCloud & Architecture\\nDigital Transformation\\nFinancial Crime & AML\\nTalent & Organization\\nAI and Data\\nWhat we offer\\nAssisting clients in developing technology strategies aligned with their business goals, identifying emerging technologies, and recommending implementation approaches.\\nLeverage the strength of data and AI strategies to revolutionize your business practices. We design and deploy tailor-made AI and data solutions that streamline operations, promote informed decision-making, and reveal undisclosed trends in your data.\\nWhat we offer\\nAI and Data\\nAI and Data\\nDiscover Data & AI\\nDiscover Data & AI\\nDiscover Data & AI\\nUnlock the potential of your data with advanced analytics that goes beyond simple reports. We utilize intricate models and artificial intelligence methods to provide practical insight that drives business growth.\\nAdvanced Analytics\\nAdvanced Analytics\\nDiscover Analytics\\nDiscover Analytics\\nDiscover Analytics\\nAdvanced Analytics\\nDesign, build, and manage cloud architectures that are secure, scalable, and aligned with your business goals. Our solutions ensure that your IT infrastructure is resilient, cost-effective, and capable of supporting your future needs.\\nCloud & Architecture\\nCloud & Architecture\\nDiscover Cloud\\nDiscover Cloud\\nDiscover Cloud\\nCloud Architecture\\nLead your industry by embracing digital transformation that reshapes how you operate and engage with customers. Our solutions drive innovation, improve efficiency, and create new value for your customers.\\nDigital Transformation\\nDigital Transformation\\nDiscover Digital Transformation\\nDiscover Digital Transformation\\nDiscover Digital Transformation\\nDigital Transformation\\nLeverage cutting-edge technology to protect your organization against financial crime and ensure Anti-Money Lau\""
      ]
     },
     "execution_count": 18,
     "metadata": {},
     "output_type": "execute_result"
    }
   ],
   "source": [
    "get_brochure_user_prompt(\"Jarvis\",\"https://www.jrvs.ca\",headers)"
   ]
  },
  {
   "cell_type": "code",
   "execution_count": 20,
   "id": "82d9f775-14bd-485c-8c8c-8e3b92cfdc7d",
   "metadata": {},
   "outputs": [],
   "source": [
    "# save the content scraped into a text file\n",
    "def save_generated_code(code):\n",
    "    with open(\"brochure.txt\", \"w\") as f:\n",
    "        f.write(code)"
   ]
  },
  {
   "cell_type": "markdown",
   "id": "61f6a671-f63f-423f-b5c3-7395a0a73af6",
   "metadata": {},
   "source": [
    "# The function gpt_brochure has two main role:\n",
    "\n",
    "* Get the website content, for each usefull links extract the information\n",
    "* Pass this information to our LLM\n",
    "* The LLM will extract the usefull information and store it\n",
    "* This information will then be display in our gradio interface"
   ]
  },
  {
   "cell_type": "code",
   "execution_count": 21,
   "id": "ce13594e-d56d-4465-88ed-c504c7455b89",
   "metadata": {
    "tags": []
   },
   "outputs": [],
   "source": [
    "def gpt_brochure(company_name,url):\n",
    "    i = 0\n",
    "    counts = []\n",
    "    brochure_content = get_brochure_user_prompt(company_name,url,headers)\n",
    "    stream = openai.chat.completions.create(\n",
    "        model=Model,\n",
    "        messages=[\n",
    "            {\"role\": \"system\", \"content\": system_prompt},\n",
    "            {\"role\": \"user\", \"content\":brochure_content}\n",
    "          ],\n",
    "        stream=True\n",
    "    )\n",
    "    response = \"\"\n",
    "    #display_handle = display(Markdown(\"\"), display_id=True)\n",
    "    print(\"stream content:f{stream}\")\n",
    "    for chunk in stream:\n",
    "        #i += 1\n",
    "        #counts.append(f\"Step {i+1} done\")\n",
    "        response += chunk.choices[0].delta.content or ''\n",
    "        response = response.replace(\"```\",\"\").replace(\"markdown\", \"\")\n",
    "        #update_display(Markdown(response), display_id=display_handle.display_id)\n",
    "        #gr.Markdown(f\"Processing step {i+1}/{100}...\\n\\n{' '.join(counts)}\")\n",
    "        #print(i)\n",
    "        yield response\n",
    "    #save_generated_code(response)\n",
    "    #return response"
   ]
  },
  {
   "cell_type": "code",
   "execution_count": 22,
   "id": "1de8ae90-45e4-4ec8-b079-71a44721d1be",
   "metadata": {
    "tags": []
   },
   "outputs": [],
   "source": [
    "def claude_brochure(company_name,url):\n",
    "    brochure_content = get_brochure_user_prompt(company_name,url,headers)\n",
    "    result = claude.messages.stream(\n",
    "     model = claude_model,\n",
    "     messages = [{\"role\":\"user\",\"content\":brochure_content}],\n",
    "     system = system_prompt,\n",
    "     max_tokens = 1000,\n",
    "     temperature = 0.7\n",
    "    )\n",
    "    response = \"\"\n",
    "    #display_handle = display(Markdown(\"\"), display_id=True)\n",
    "    with result as stream:\n",
    "        for text in stream.text_stream:\n",
    "            print(text)\n",
    "            response+= text or \"\"\n",
    "            response = response.replace(\"```\",\"\").replace(\"markdown\", \"\")\n",
    "            #update_display(Markdown(response), display_id=display_handle.display_id)\n",
    "            yield response\n",
    "        #save_generated_code(response)"
   ]
  },
  {
   "cell_type": "markdown",
   "id": "305dc8b1-9c74-4be4-8da5-b86fcf1d7275",
   "metadata": {},
   "source": [
    "# Chose the LLM to use for the brochure generation"
   ]
  },
  {
   "cell_type": "code",
   "execution_count": 23,
   "id": "ab684f5d-b842-472c-8f2e-d2f39a1462cc",
   "metadata": {
    "tags": []
   },
   "outputs": [],
   "source": [
    "def generate_brochure(company_name,url,model_name,progress=gr.Progress()):\n",
    "    progress(0, desc=\"Starting...\")\n",
    "    if model_name == \"GPT\":\n",
    "        print(model_name)\n",
    "        result = gpt_brochure(company_name,url)\n",
    "        print(result)\n",
    "    elif model_name == \"Claude\":\n",
    "        print(model_name)\n",
    "        result = claude_brochure(company_name,url)\n",
    "        print(result)\n",
    "    else:\n",
    "        raise ValueError(\"Unknown Error\")\n",
    "        \n",
    "    for chunk in result:\n",
    "        yield chunk\n",
    "    "
   ]
  },
  {
   "cell_type": "code",
   "execution_count": 24,
   "id": "7f4b8dd1-a3de-4565-823b-9a5ebf05605b",
   "metadata": {
    "tags": []
   },
   "outputs": [],
   "source": [
    "stream = gpt_brochure(\"Jarvis\",\"https://www.jrvs.ca\")"
   ]
  },
  {
   "cell_type": "code",
   "execution_count": 25,
   "id": "10d8a045-be15-4289-bcba-acc62375f719",
   "metadata": {
    "tags": []
   },
   "outputs": [],
   "source": [
    "tlink_system_prompt = \"You are a tool for translation. Your task is to translate a brochure from English into French.\\\n",
    "Each line of the brochure should be translate from english to french.\\\n",
    "Do not translate the email, phone number or any other link in the brochure.\""
   ]
  },
  {
   "cell_type": "code",
   "execution_count": 26,
   "id": "18b76e00-5f33-43e4-b849-b55c139654f5",
   "metadata": {
    "tags": []
   },
   "outputs": [],
   "source": [
    "def translate_brochure(user_prompt):\n",
    "    \n",
    "    stream = openai.chat.completions.create(\n",
    "        model=Model,\n",
    "        messages=[\n",
    "            {\"role\": \"system\", \"content\": tlink_system_prompt},\n",
    "            {\"role\": \"user\", \"content\": user_prompt}\n",
    "          ],\n",
    "        stream=True\n",
    "    )\n",
    "    response = \"\"\n",
    "    display_handle = display(Markdown(\"\"), display_id=True)\n",
    "    for chunk in stream:\n",
    "        response += chunk.choices[0].delta.content or ''\n",
    "        response = response.replace(\"```\",\"\").replace(\"markdown\", \"\")\n",
    "        update_display(Markdown(response), display_id=display_handle.display_id)\n",
    "    return response\n",
    "    \n",
    "    "
   ]
  },
  {
   "cell_type": "code",
   "execution_count": 27,
   "id": "34da93df-3170-4764-9d25-9c4aeb98afd8",
   "metadata": {},
   "outputs": [
    {
     "name": "stdout",
     "output_type": "stream",
     "text": [
      "* Running on local URL:  http://127.0.0.1:7860\n",
      "* To create a public link, set `share=True` in `launch()`.\n"
     ]
    },
    {
     "data": {
      "text/html": [
       "<div><iframe src=\"http://127.0.0.1:7860/\" width=\"100%\" height=\"500\" allow=\"autoplay; camera; microphone; clipboard-read; clipboard-write;\" frameborder=\"0\" allowfullscreen></iframe></div>"
      ],
      "text/plain": [
       "<IPython.core.display.HTML object>"
      ]
     },
     "metadata": {},
     "output_type": "display_data"
    },
    {
     "data": {
      "text/plain": []
     },
     "execution_count": 27,
     "metadata": {},
     "output_type": "execute_result"
    },
    {
     "name": "stdout",
     "output_type": "stream",
     "text": [
      "GPT\n",
      "<generator object gpt_brochure at 0x0000028874B6B640>\n",
      "Found links: {'links': [{'type': 'about page', 'url': 'https://example.com/about-us'}, {'type': 'careers page', 'url': 'https://example.com/careers'}, {'type': 'services page', 'url': 'https://example.com/mirage-ai'}, {'type': 'impact page', 'url': 'https://example.com/our-impact'}]}\n",
      "stream content:f{stream}\n"
     ]
    },
    {
     "data": {
      "text/markdown": [
       "# Brochure du Jarvis Consulting Group\n",
       "\n",
       "## Innover. Autonomiser. Impacter.\n",
       "\n",
       "### Qui Nous Sommes\n",
       "Chez **Jarvis Consulting Group**, nous permettons aux organisations de tirer parti de la puissance de l'**IA, des données et de la technologie** pour un impact positif. Nos conseillers et technologues experts s'attaquent à des défis complexes, en mettant à profit des technologies éprouvées et en proposant des solutions novatrices pour des résultats transformateurs. Nous croyons en la construction de relations durables avec nos clients grâce à une compréhension approfondie de leurs besoins uniques.\n",
       "\n",
       "### Notre Expertise\n",
       "- **MirageAI** : Solutions innovantes pour la **modernisation des données** sans compromettre la sécurité.\n",
       "- **Données et IA** : Solutions sur mesure qui révolutionnent les pratiques commerciales grâce à une prise de décision basée sur les données.\n",
       "- **Analytique Avancée** : Déverrouillez le potentiel de vos données avec des insights qui favorisent la croissance des affaires.\n",
       "- **Cloud & Architecture** : Concevoir et gérer des infrastructures informatiques sécurisées et évolutives.\n",
       "- **Transformation Numérique** : Redéfinir les opérations et l'engagement client pour adopter les innovations modernes.\n",
       "- **Criminalité Financière & LBC** : Technologies avancées pour protéger contre la criminalité financière.\n",
       "\n",
       "### Notre Approche\n",
       "Chez Jarvis, nous transformons les concepts en réalité. Alors que les organisations se lancent dans leur parcours de transformation numérique, nous comprenons que la démocratisation des données est essentielle. Notre plateforme intégrée de données et d'IA garantit que les données deviennent exploitables et que les insights sont facilement accessibles. Nous visons à améliorer l'expérience client et à accroître la productivité, rendant les données disponibles pour les décideurs de manière innovante.\n",
       "\n",
       "### Culture d'Entreprise\n",
       "L'équipe de Jarvis prospère grâce à la collaboration, à l'innovation et à un engagement à avoir un impact positif. Nous nous consacrons à favoriser un environnement de travail inclusif qui nourrit la créativité et responsabilise chaque membre de l'équipe à contribuer à nos objectifs communs. Ensemble, nous ne sommes pas seulement une entreprise ; nous sommes une communauté engagée à faire avancer l'avenir de l'IA et des données.\n",
       "\n",
       "### Carrières chez Jarvis\n",
       "Nous sommes toujours à la recherche de talents qui partagent notre passion pour la technologie et l'innovation. Que vous soyez un professionnel expérimenté ou que vous débutiez votre carrière, Jarvis offre un lieu de travail dynamique où vous pouvez grandir et vous épanouir.\n",
       "\n",
       "Rejoignez-nous alors que nous autonomisons l'innovation et entraînons des impacts positifs dans le monde de l'IA, des données et de la technologie.\n",
       "\n",
       "### Connectez-vous avec Nous\n",
       "Pour plus d'informations sur nos services, notre culture et nos opportunités de carrière, veuillez visiter notre site web [Jarvis Consulting Group](#).\n",
       "\n",
       "---\n",
       "**Votre avenir avec Jarvis vous attend.**  \n",
       "Explorez le potentiel des données et de la technologie avec nous pour avoir un impact significatif dans votre organisation et au-delà."
      ],
      "text/plain": [
       "<IPython.core.display.Markdown object>"
      ]
     },
     "metadata": {},
     "output_type": "display_data"
    }
   ],
   "source": [
    "with gr.Blocks() as ui:\n",
    "    \n",
    "    gr.Markdown(\"Generate a brochure and translate it\")\n",
    "    with gr.Row():\n",
    "        generate = gr.Button(\"Generate\")\n",
    "        translate = gr.Button(\"Translate\")\n",
    "    with gr.Row():\n",
    "        company_name = gr.Textbox(label=\"Company Name\")\n",
    "        website = gr.Textbox(label =\"Website Url\")\n",
    "        models = gr.Dropdown([\"GPT\",\"Claude\"],label=\"Select Model\")\n",
    "    with gr.Row():\n",
    "        brochure = gr.Markdown(label=\"Brochure\")\n",
    "        translation = gr.Markdown(label=\"Translation\")\n",
    "\n",
    "    generate.click(generate_brochure,inputs=[company_name,website,models],outputs=[brochure])\n",
    "    translate.click(translate_brochure,inputs=[brochure],outputs=[translation])\n",
    "\n",
    "ui.launch()\n",
    "            "
   ]
  }
 ],
 "metadata": {
  "kernelspec": {
   "display_name": "Python 3 (ipykernel)",
   "language": "python",
   "name": "python3"
  },
  "language_info": {
   "codemirror_mode": {
    "name": "ipython",
    "version": 3
   },
   "file_extension": ".py",
   "mimetype": "text/x-python",
   "name": "python",
   "nbconvert_exporter": "python",
   "pygments_lexer": "ipython3",
   "version": "3.11.12"
  }
 },
 "nbformat": 4,
 "nbformat_minor": 5
}
