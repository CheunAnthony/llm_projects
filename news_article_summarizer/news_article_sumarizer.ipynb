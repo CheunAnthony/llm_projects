{
  "nbformat": 4,
  "nbformat_minor": 0,
  "metadata": {
    "colab": {
      "provenance": []
    },
    "kernelspec": {
      "name": "python3",
      "display_name": "Python 3"
    },
    "language_info": {
      "name": "python"
    }
  },
  "cells": [
    {
      "cell_type": "code",
      "execution_count": 1,
      "metadata": {
        "id": "_YTh5tTbAn1h"
      },
      "outputs": [],
      "source": [
        "!pip install -q newspaper3k==0.2.8 python-dotenv"
      ]
    },
    {
      "cell_type": "code",
      "source": [
        "!pip install -U langchain-openai"
      ],
      "metadata": {
        "colab": {
          "base_uri": "https://localhost:8080/"
        },
        "id": "jfvYurfiICg8",
        "outputId": "6494a6a4-81cf-4a5b-ffc0-515b3e2d5bc6"
      },
      "execution_count": 2,
      "outputs": [
        {
          "output_type": "stream",
          "name": "stdout",
          "text": [
            "Requirement already satisfied: langchain-openai in /usr/local/lib/python3.12/dist-packages (0.3.34)\n",
            "Requirement already satisfied: langchain-core<2.0.0,>=0.3.77 in /usr/local/lib/python3.12/dist-packages (from langchain-openai) (0.3.78)\n",
            "Requirement already satisfied: openai<3.0.0,>=1.104.2 in /usr/local/lib/python3.12/dist-packages (from langchain-openai) (1.109.1)\n",
            "Requirement already satisfied: tiktoken<1.0.0,>=0.7.0 in /usr/local/lib/python3.12/dist-packages (from langchain-openai) (0.11.0)\n",
            "Requirement already satisfied: langsmith<1.0.0,>=0.3.45 in /usr/local/lib/python3.12/dist-packages (from langchain-core<2.0.0,>=0.3.77->langchain-openai) (0.4.32)\n",
            "Requirement already satisfied: tenacity!=8.4.0,<10.0.0,>=8.1.0 in /usr/local/lib/python3.12/dist-packages (from langchain-core<2.0.0,>=0.3.77->langchain-openai) (8.5.0)\n",
            "Requirement already satisfied: jsonpatch<2.0.0,>=1.33.0 in /usr/local/lib/python3.12/dist-packages (from langchain-core<2.0.0,>=0.3.77->langchain-openai) (1.33)\n",
            "Requirement already satisfied: PyYAML<7.0.0,>=5.3.0 in /usr/local/lib/python3.12/dist-packages (from langchain-core<2.0.0,>=0.3.77->langchain-openai) (6.0.3)\n",
            "Requirement already satisfied: typing-extensions<5.0.0,>=4.7.0 in /usr/local/lib/python3.12/dist-packages (from langchain-core<2.0.0,>=0.3.77->langchain-openai) (4.15.0)\n",
            "Requirement already satisfied: packaging<26.0.0,>=23.2.0 in /usr/local/lib/python3.12/dist-packages (from langchain-core<2.0.0,>=0.3.77->langchain-openai) (23.2)\n",
            "Requirement already satisfied: pydantic<3.0.0,>=2.7.4 in /usr/local/lib/python3.12/dist-packages (from langchain-core<2.0.0,>=0.3.77->langchain-openai) (2.11.9)\n",
            "Requirement already satisfied: anyio<5,>=3.5.0 in /usr/local/lib/python3.12/dist-packages (from openai<3.0.0,>=1.104.2->langchain-openai) (4.11.0)\n",
            "Requirement already satisfied: distro<2,>=1.7.0 in /usr/local/lib/python3.12/dist-packages (from openai<3.0.0,>=1.104.2->langchain-openai) (1.9.0)\n",
            "Requirement already satisfied: httpx<1,>=0.23.0 in /usr/local/lib/python3.12/dist-packages (from openai<3.0.0,>=1.104.2->langchain-openai) (0.28.1)\n",
            "Requirement already satisfied: jiter<1,>=0.4.0 in /usr/local/lib/python3.12/dist-packages (from openai<3.0.0,>=1.104.2->langchain-openai) (0.11.0)\n",
            "Requirement already satisfied: sniffio in /usr/local/lib/python3.12/dist-packages (from openai<3.0.0,>=1.104.2->langchain-openai) (1.3.1)\n",
            "Requirement already satisfied: tqdm>4 in /usr/local/lib/python3.12/dist-packages (from openai<3.0.0,>=1.104.2->langchain-openai) (4.67.1)\n",
            "Requirement already satisfied: regex>=2022.1.18 in /usr/local/lib/python3.12/dist-packages (from tiktoken<1.0.0,>=0.7.0->langchain-openai) (2024.11.6)\n",
            "Requirement already satisfied: requests>=2.26.0 in /usr/local/lib/python3.12/dist-packages (from tiktoken<1.0.0,>=0.7.0->langchain-openai) (2.32.4)\n",
            "Requirement already satisfied: idna>=2.8 in /usr/local/lib/python3.12/dist-packages (from anyio<5,>=3.5.0->openai<3.0.0,>=1.104.2->langchain-openai) (3.10)\n",
            "Requirement already satisfied: certifi in /usr/local/lib/python3.12/dist-packages (from httpx<1,>=0.23.0->openai<3.0.0,>=1.104.2->langchain-openai) (2025.8.3)\n",
            "Requirement already satisfied: httpcore==1.* in /usr/local/lib/python3.12/dist-packages (from httpx<1,>=0.23.0->openai<3.0.0,>=1.104.2->langchain-openai) (1.0.9)\n",
            "Requirement already satisfied: h11>=0.16 in /usr/local/lib/python3.12/dist-packages (from httpcore==1.*->httpx<1,>=0.23.0->openai<3.0.0,>=1.104.2->langchain-openai) (0.16.0)\n",
            "Requirement already satisfied: jsonpointer>=1.9 in /usr/local/lib/python3.12/dist-packages (from jsonpatch<2.0.0,>=1.33.0->langchain-core<2.0.0,>=0.3.77->langchain-openai) (3.0.0)\n",
            "Requirement already satisfied: orjson>=3.9.14 in /usr/local/lib/python3.12/dist-packages (from langsmith<1.0.0,>=0.3.45->langchain-core<2.0.0,>=0.3.77->langchain-openai) (3.11.3)\n",
            "Requirement already satisfied: requests-toolbelt>=1.0.0 in /usr/local/lib/python3.12/dist-packages (from langsmith<1.0.0,>=0.3.45->langchain-core<2.0.0,>=0.3.77->langchain-openai) (1.0.0)\n",
            "Requirement already satisfied: zstandard>=0.23.0 in /usr/local/lib/python3.12/dist-packages (from langsmith<1.0.0,>=0.3.45->langchain-core<2.0.0,>=0.3.77->langchain-openai) (0.25.0)\n",
            "Requirement already satisfied: annotated-types>=0.6.0 in /usr/local/lib/python3.12/dist-packages (from pydantic<3.0.0,>=2.7.4->langchain-core<2.0.0,>=0.3.77->langchain-openai) (0.7.0)\n",
            "Requirement already satisfied: pydantic-core==2.33.2 in /usr/local/lib/python3.12/dist-packages (from pydantic<3.0.0,>=2.7.4->langchain-core<2.0.0,>=0.3.77->langchain-openai) (2.33.2)\n",
            "Requirement already satisfied: typing-inspection>=0.4.0 in /usr/local/lib/python3.12/dist-packages (from pydantic<3.0.0,>=2.7.4->langchain-core<2.0.0,>=0.3.77->langchain-openai) (0.4.2)\n",
            "Requirement already satisfied: charset_normalizer<4,>=2 in /usr/local/lib/python3.12/dist-packages (from requests>=2.26.0->tiktoken<1.0.0,>=0.7.0->langchain-openai) (3.4.3)\n",
            "Requirement already satisfied: urllib3<3,>=1.21.1 in /usr/local/lib/python3.12/dist-packages (from requests>=2.26.0->tiktoken<1.0.0,>=0.7.0->langchain-openai) (2.5.0)\n"
          ]
        }
      ]
    },
    {
      "cell_type": "code",
      "source": [
        "import json\n",
        "import os\n",
        "from dotenv import load_dotenv\n",
        "import requests\n",
        "from newspaper import Article\n",
        "from langchain.schema import(HumanMessage)\n",
        "from langchain_openai import ChatOpenAI\n",
        "#from langchain.chat_models import ChatOpenAI\n",
        "from google.colab import userdata\n",
        "load_dotenv()"
      ],
      "metadata": {
        "colab": {
          "base_uri": "https://localhost:8080/"
        },
        "id": "RBj31hJRA55K",
        "outputId": "42b9096a-54c4-4457-835d-ef02a020ef6e"
      },
      "execution_count": 4,
      "outputs": [
        {
          "output_type": "execute_result",
          "data": {
            "text/plain": [
              "False"
            ]
          },
          "metadata": {},
          "execution_count": 4
        }
      ]
    },
    {
      "cell_type": "code",
      "source": [
        "openai_api_key = userdata.get('OPENAI_API_KEY').strip()\n",
        "os.environ['OPENAI_API_KEY'] = openai_api_key"
      ],
      "metadata": {
        "id": "IspFthhFHUb7"
      },
      "execution_count": 5,
      "outputs": []
    },
    {
      "cell_type": "code",
      "source": [
        "headers ={'User-Agent': '''Mozilla/5.0 (Windows NT 10.0; Win64; x64) AppleWebKit/537.36 (KHTML, like Gecko) Chrome/89.0.4389.82 Safari/537.36'''}\n",
        "\n",
        "article_url =\"\"\"https://www.artificialintelligence-news.com/2022/01/25/meta-claims-new-ai-supercomputer-will-set-records/\"\"\"\n",
        "\n",
        "session =requests.Session()\n",
        "\n",
        "\n",
        "\n",
        "try:\n",
        "  response =session.get(article_url, headers=headers, timeout=10)\n",
        "\n",
        "  if response.status_code == 200:\n",
        "    article = Article(article_url)\n",
        "    article.download()\n",
        "    article.parse()\n",
        "    print(f\"Title:{article.title}\")\n",
        "    print(f\"Text: {article.text}\")\n",
        "  else:\n",
        "    print(f\"Status code:{response.status_code}\")\n",
        "    print(f\"Failed to fetch article at {article_url}\")\n",
        "except Exception as e:\n",
        "  print(e)\n"
      ],
      "metadata": {
        "id": "YdI4-EN9BD-G",
        "colab": {
          "base_uri": "https://localhost:8080/"
        },
        "outputId": "5b4c09c5-893d-4aa3-ade5-59318f07a3b9"
      },
      "execution_count": 6,
      "outputs": [
        {
          "output_type": "stream",
          "name": "stdout",
          "text": [
            "Title:Meta claims its new AI supercomputer will set records\n",
            "Text: Meta (formerly Facebook) has unveiled an AI supercomputer that it claims will be the world’s fastest.\n",
            "\n",
            "The supercomputer is called the AI Research SuperCluster (RSC) and is yet to be fully complete. However, Meta’s researchers have already begun using it for training large natural language processing (NLP) and computer vision models.\n",
            "\n",
            "RSC is set to be fully built in mid-2022. Meta says that it will be the fastest in the world once complete and the aim is for it to be capable of training models with trillions of parameters.\n",
            "\n",
            "“We hope RSC will help us build entirely new AI systems that can, for example, power real-time voice translations to large groups of people, each speaking a different language, so they can seamlessly collaborate on a research project or play an AR game together,” wrote Meta in a blog post.\n",
            "\n",
            "“Ultimately, the work done with RSC will pave the way toward building technologies for the next major computing platform — the metaverse, where AI-driven applications and products will play an important role.”\n",
            "\n",
            "For production, Meta expects RSC will be 20x faster than Meta’s current V100-based clusters. RSC is also estimated to be 9x faster at running the NVIDIA Collective Communication Library (NCCL) and 3x faster at training large-scale NLP workflows.\n",
            "\n",
            "A model with tens of billions of parameters can finish training in three weeks compared with nine weeks prior to RSC.\n",
            "\n",
            "Meta says that its previous AI research infrastructure only leveraged open source and other publicly-available datasets. RSC was designed with the security and privacy controls in mind to allow Meta to use real-world examples from its production systems in production training.\n",
            "\n",
            "What this means in practice is that Meta can use RSC to advance research for vital tasks such as identifying harmful content on its platforms—using real data from them.\n",
            "\n",
            "“We believe this is the first time performance, reliability, security, and privacy have been tackled at such a scale,” says Meta.\n",
            "\n",
            "(Image Credit: Meta)\n",
            "\n",
            "Want to learn more about AI and big data from industry leaders? Check out AI & Big Data Expo. The next events in the series will be held in Santa Clara on 11-12 May 2022, Amsterdam on 20-21 September 2022, and London on 1-2 December 2022.\n",
            "\n",
            "Explore other upcoming enterprise technology events and webinars powered by TechForge here.\n"
          ]
        }
      ]
    },
    {
      "cell_type": "code",
      "source": [
        "template = \"\"\" You are a very good assistant that summarizes online articles.Here's the article you want to summarize.\n",
        "\n",
        "==================\n",
        "Title: {article_title}\n",
        "\n",
        "{article_text}\n",
        "==================\n",
        "\n",
        "Write a summary of the previous article\n",
        "\"\"\""
      ],
      "metadata": {
        "id": "HFO5wh_yDLUH"
      },
      "execution_count": 7,
      "outputs": []
    },
    {
      "cell_type": "code",
      "source": [
        "template"
      ],
      "metadata": {
        "colab": {
          "base_uri": "https://localhost:8080/",
          "height": 53
        },
        "id": "18MFC93zEe_9",
        "outputId": "503ebc56-d4f9-483a-9217-99c2785e496b"
      },
      "execution_count": 8,
      "outputs": [
        {
          "output_type": "execute_result",
          "data": {
            "text/plain": [
              "\" You are a very good assistant that summarizes online articles.Here's the article you want to summarize.\\n\\n==================\\nTitle: {article_title}\\n\\n{article_text}\\n==================\\n\\nWrite a summary of the previous article\\n\""
            ],
            "application/vnd.google.colaboratory.intrinsic+json": {
              "type": "string"
            }
          },
          "metadata": {},
          "execution_count": 8
        }
      ]
    },
    {
      "cell_type": "code",
      "source": [
        "#Capture human messages with a chat-based interface\n",
        "prompt =template.format(article_title=article.title, article_text=article.text)\n",
        "messages =[HumanMessage(content=prompt)]"
      ],
      "metadata": {
        "id": "qhPwoc7bEgIX"
      },
      "execution_count": 9,
      "outputs": []
    },
    {
      "cell_type": "code",
      "source": [
        "chat =ChatOpenAI(model_name=\"gpt-4-turbo\", temperature=0)"
      ],
      "metadata": {
        "id": "GZqQWxEkF_M0"
      },
      "execution_count": 10,
      "outputs": []
    },
    {
      "cell_type": "code",
      "source": [
        "# generate a summary for the article\n",
        "summary = chat(messages)\n",
        "print(summary.content)"
      ],
      "metadata": {
        "colab": {
          "base_uri": "https://localhost:8080/"
        },
        "id": "VHzj4U6KHwnX",
        "outputId": "63baa243-2ac6-43f4-aec8-999b048db7ef"
      },
      "execution_count": 12,
      "outputs": [
        {
          "output_type": "stream",
          "name": "stdout",
          "text": [
            "Meta (formerly Facebook) has announced the development of the AI Research SuperCluster (RSC), which it claims will be the world's fastest AI supercomputer upon its completion in mid-2022. The RSC is designed to train large-scale natural language processing and computer vision models, and it is already being used by Meta's researchers. The supercomputer aims to support the development of AI systems capable of tasks such as real-time voice translations for large, multilingual groups, which could be used in applications like augmented reality games and collaborative research projects.\n",
            "\n",
            "Once fully operational, RSC is expected to be 20 times faster than Meta's current V100-based clusters and significantly quicker in other specific computational tasks. It will also enhance Meta's ability to train models with tens of billions of parameters more efficiently, reducing training time from nine weeks to just three weeks.\n",
            "\n",
            "Additionally, RSC incorporates advanced security and privacy controls, allowing Meta to utilize real-world data from its production systems for training purposes. This capability is intended to improve the company's research into identifying harmful content on its platforms. Meta emphasizes that the combination of performance, reliability, security, and privacy at this scale is unprecedented in their operations.\n",
            "\n",
            "The article also mentions upcoming AI and big data events hosted by TechForge, including expos in Santa Clara, Amsterdam, and London throughout 2022.\n"
          ]
        }
      ]
    },
    {
      "cell_type": "code",
      "source": [
        "template = \"\"\" You are an advanced AI assistant that summarizes online articles into bulleted lists.\n",
        "\n",
        "Here's the article you need to summarize.\n",
        "\n",
        "==================\n",
        "Title: {article_title}\n",
        "\n",
        "{article_text}\n",
        "==================\n",
        "\n",
        "Now, provide a summarized version of the article in a bulleted list format.\n",
        "\n",
        "\n",
        "\"\"\""
      ],
      "metadata": {
        "id": "YkutZ_n3Ij9t"
      },
      "execution_count": 13,
      "outputs": []
    },
    {
      "cell_type": "code",
      "source": [
        "#Capture human messages with a chat-based interface\n",
        "prompt =template.format(article_title=article.title, article_text=article.text)\n",
        "messages =[HumanMessage(content=prompt)]"
      ],
      "metadata": {
        "id": "bkOEwZqiJUXF"
      },
      "execution_count": 14,
      "outputs": []
    },
    {
      "cell_type": "code",
      "source": [
        "# generate a summary for the article\n",
        "summary = chat(messages)\n",
        "print(summary.content)"
      ],
      "metadata": {
        "colab": {
          "base_uri": "https://localhost:8080/"
        },
        "id": "xzP1TrL9JgVT",
        "outputId": "6e8e6a69-d5f3-4593-d53b-1091cd305f80"
      },
      "execution_count": 15,
      "outputs": [
        {
          "output_type": "stream",
          "name": "stdout",
          "text": [
            "- Meta (formerly Facebook) has announced the development of a new AI supercomputer named the AI Research SuperCluster (RSC).\n",
            "- The RSC is not yet complete but is expected to be the world’s fastest supercomputer by mid-2022.\n",
            "- Meta's researchers are already using RSC to train large-scale natural language processing (NLP) and computer vision models.\n",
            "- The supercomputer aims to support training models with trillions of parameters, enhancing capabilities such as real-time voice translations for diverse language groups.\n",
            "- RSC will significantly speed up AI model training, being 20x faster than Meta’s current V100-based clusters and reducing training time for large models from nine weeks to three weeks.\n",
            "- The supercomputer is designed with enhanced security and privacy controls, allowing the use of real-world data from Meta's production systems for training purposes.\n",
            "- This advancement will aid in important tasks like identifying harmful content on Meta platforms.\n",
            "- Meta highlights this project as a pioneering effort in balancing performance, reliability, security, and privacy at a large scale.\n",
            "- The development of RSC is part of Meta's broader vision for the metaverse, where AI-driven applications will be crucial.\n",
            "- Related events include the AI & Big Data Expo, with upcoming dates in Santa Clara, Amsterdam, and London throughout 2022.\n"
          ]
        }
      ]
    },
    {
      "cell_type": "code",
      "source": [
        "template = \"\"\" You are an advanced AI assistant that summarizes online articles into bulleted lists.\n",
        "\n",
        "Here's the article you need to summarize.\n",
        "\n",
        "==================\n",
        "Title: {article_title}\n",
        "\n",
        "{article_text}\n",
        "==================\n",
        "\n",
        "Now, provide a summarized version of the article in a bulleted list format.\n",
        "\n",
        "Add to the bottom  the summarize article translate to french using a bulleted list format.\n",
        "\n",
        "==================\n",
        "Titre: {article_title}\n",
        "\n",
        "{article_text}\n",
        "==================\n",
        "\n",
        "\"\"\""
      ],
      "metadata": {
        "id": "V3iU6Ru-JjsH"
      },
      "execution_count": 18,
      "outputs": []
    },
    {
      "cell_type": "code",
      "source": [
        "prompt =template.format(article_title=article.title, article_text=article.text)\n",
        "messages =[HumanMessage(content=prompt)]"
      ],
      "metadata": {
        "id": "Lv9X2qzDK4Eb"
      },
      "execution_count": 19,
      "outputs": []
    },
    {
      "cell_type": "code",
      "source": [
        "# generate a summary for the article\n",
        "summary = chat(messages)\n",
        "print(summary.content)"
      ],
      "metadata": {
        "colab": {
          "base_uri": "https://localhost:8080/"
        },
        "id": "6F9CLHDDLGlB",
        "outputId": "6cf3dcb9-6c89-45d7-f615-e422f63fa008"
      },
      "execution_count": 20,
      "outputs": [
        {
          "output_type": "stream",
          "name": "stdout",
          "text": [
            "### Summarized Article in English:\n",
            "- **Meta Announcement**: Meta (formerly Facebook) has introduced a new AI supercomputer named the AI Research SuperCluster (RSC), claimed to be the future world’s fastest.\n",
            "- **Development Stage**: The RSC is currently under construction and is expected to be fully operational by mid-2022.\n",
            "- **Capabilities**: Once completed, RSC will be capable of training AI models with trillions of parameters, significantly enhancing tasks like real-time voice translations for multilingual groups and supporting AR games.\n",
            "- **Performance Improvements**: Compared to Meta’s existing V100-based clusters, RSC will be 20 times faster, 9 times faster at running NVIDIA’s NCCL, and 3 times quicker in training large-scale NLP models.\n",
            "- **Training Efficiency**: A model with tens of billions of parameters can be trained in three weeks with RSC, a task that previously took nine weeks.\n",
            "- **Data Usage**: Unlike previous infrastructures that relied on open-source data, RSC incorporates enhanced security and privacy controls to utilize real-world data from Meta’s production systems for training.\n",
            "- **Research Applications**: RSC will enable Meta to conduct advanced research, including identifying harmful content on its platforms using actual data.\n",
            "- **Future Prospects**: The development of RSC is seen as a step towards creating technologies for the metaverse, where AI will play a crucial role.\n",
            "\n",
            "### Article Summarized in French:\n",
            "- **Annonce de Meta**: Meta (anciennement Facebook) a présenté un nouveau supercalculateur IA, le AI Research SuperCluster (RSC), qui sera, selon eux, le plus rapide au monde à l'avenir.\n",
            "- **Stade de développement**: Le RSC est actuellement en construction et devrait être pleinement opérationnel d'ici mi-2022.\n",
            "- **Capacités**: Une fois achevé, le RSC pourra entraîner des modèles IA avec des trillions de paramètres, améliorant considérablement des tâches telles que les traductions vocales en temps réel pour des groupes multilingues et soutenant des jeux AR.\n",
            "- **Améliorations de performance**: Par rapport aux clusters actuels de Meta basés sur V100, le RSC sera 20 fois plus rapide, 9 fois plus rapide pour exécuter la bibliothèque NCCL de NVIDIA, et 3 fois plus rapide pour l'entraînement de modèles NLP à grande échelle.\n",
            "- **Efficacité de l'entraînement**: Un modèle avec des dizaines de milliards de paramètres peut être entraîné en trois semaines avec le RSC, une tâche qui prenait auparavant neuf semaines.\n",
            "- **Utilisation des données**: Contrairement aux infrastructures précédentes qui dépendaient des données en open source, le RSC intègre des contrôles renforcés de sécurité et de confidentialité pour utiliser des données réelles des systèmes de production de Meta pour l'entraînement.\n",
            "- **Applications de recherche**: Le RSC permettra à Meta de mener des recherches avancées, y compris l'identification de contenu nuisible sur ses plateformes en utilisant des données réelles.\n",
            "- **Perspectives d'avenir**: Le développement du RSC est vu comme un pas vers la création de technologies pour le métavers, où l'IA jouera un rôle crucial.\n"
          ]
        }
      ]
    },
    {
      "cell_type": "code",
      "source": [],
      "metadata": {
        "id": "CB1emTeNLJ55"
      },
      "execution_count": null,
      "outputs": []
    }
  ]
}